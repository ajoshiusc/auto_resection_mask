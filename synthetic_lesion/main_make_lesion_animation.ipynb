{
 "cells": [
  {
   "cell_type": "code",
   "execution_count": null,
   "metadata": {},
   "outputs": [],
   "source": [
    "from nilearn.plotting import plot_anat\n",
    "\n",
    "\n",
    "pre_lesion = '/home/ajoshi/Desktop/lesion_sim/Subject_23/Subject_23/core_lesion_mask.nii.gz'\n",
    "post_lesion = '/home/ajoshi/Desktop/lesion_sim/Subject_23/Subject_23/lesion_mask.nii.gz'\n",
    "mri = '/home/ajoshi/Desktop/lesion_sim/Subject_23/Subject_23/original_image.nii.gz'\n",
    "\n",
    "pre2post_lesion = '/home/ajoshi/Desktop/lesion_sim/Subject_23/Subject_23/output_pre2post_lesion.nii.gz'\n",
    "ddf = '/home/ajoshi/Desktop/lesion_sim/Subject_23/Subject_23/output_pre2post_lesion_ddf.nii.gz'\n",
    "jac_file = '/home/ajoshi/Desktop/lesion_sim/Subject_23/Subject_23/output_pre2post_lesion_jac.nii.gz'\n",
    "output_file_pre2post_lesion='/home/ajoshi/Desktop/lesion_sim/Subject_23/Subject_23/pre2post_lesion_check.nii.gz'\n",
    "output_file_pre2post_mri='/deneb_disk/auto_resection/lesion_masks/pre2post_lesion.nii.gz'\n",
    "\n",
    "\n",
    "cross_hair = (61.27,-31,11.13) #(56, 105, 122)\n",
    "plot_anat(pre_lesion, title='Pre-lesion mask',cut_coords=cross_hair)\n",
    "plot_anat(post_lesion, title='Post-lesion mask', cut_coords=cross_hair)\n"
   ]
  },
  {
   "cell_type": "code",
   "execution_count": null,
   "metadata": {},
   "outputs": [],
   "source": [
    "\n",
    "from warper import Warper\n",
    "\n",
    "nonlin_reg = Warper()\n",
    "\n",
    "nonlin_reg.nonlinear_reg(\n",
    "    target_file=post_lesion,\n",
    "    moving_file=pre_lesion,\n",
    "    output_file=pre2post_lesion,\n",
    "    ddf_file=ddf,\n",
    "    reg_penalty=3,\n",
    "    nn_input_size=64,\n",
    "    lr=1e-3,\n",
    "    max_epochs=3000,\n",
    "    loss=\"mse\",\n",
    "    jacobian_determinant_file=jac_file)\n"
   ]
  },
  {
   "cell_type": "code",
   "execution_count": null,
   "metadata": {},
   "outputs": [],
   "source": [
    "from warp_utils import apply_warp\n",
    "from monai.transforms import LoadImage, EnsureChannelFirst\n",
    "import nibabel as nib\n",
    "\n",
    "plot_anat(pre_lesion, title='pre-lesion', cut_coords=cross_hair)\n",
    "plot_anat(post_lesion, title='post-lesion', cut_coords=cross_hair)\n",
    "plot_anat(pre2post_lesion, title='pre2post-lesion', cut_coords=cross_hair)\n",
    "\n",
    "\n",
    "moving = LoadImage(image_only=True)(pre_lesion)\n",
    "moving = EnsureChannelFirst()(moving)[None]\n",
    "target = LoadImage(image_only=True)(post_lesion)\n",
    "target = EnsureChannelFirst()(target)[None]\n",
    "disp = LoadImage(image_only=True)(ddf)\n",
    "disp = EnsureChannelFirst()(disp)[None]\n",
    "mri = LoadImage(image_only=True)(mri)\n",
    "mri = EnsureChannelFirst()(mri)[None]\n",
    "\n",
    "moved = apply_warp(disp_field=disp, moving_image=moving, target_image=target)\n",
    "nib.save(nib.Nifti1Image(moved[0, 0].detach().cpu().numpy(), target.affine), output_file_pre2post_lesion)\n",
    "\n",
    "\n",
    "target = LoadImage(image_only=True)(post_lesion)\n",
    "target = EnsureChannelFirst()(target)[None]\n",
    "disp = LoadImage(image_only=True)(ddf)\n",
    "disp = EnsureChannelFirst()(disp)[None]\n",
    "#mri = LoadImage(image_only=True)(mri)\n",
    "#mri = EnsureChannelFirst()(mri)[None]\n",
    "output_file='/deneb_disk/auto_resection/lesion_masks/pre2post_mri.nii.gz'\n",
    "moved = apply_warp(disp_field=disp, moving_image=mri, target_image=target)\n",
    "nib.save(nib.Nifti1Image(moved[0, 0].detach().cpu().numpy(), target.affine), output_file)\n"
   ]
  },
  {
   "cell_type": "code",
   "execution_count": null,
   "metadata": {},
   "outputs": [],
   "source": [
    "\n",
    "lesion_file = '/deneb_disk/auto_resection/lesion_masks/lesion_init0.mask.nii.gz'\n",
    "lesion_mri = '/deneb_disk/auto_resection/lesion_masks/USCBrain.pre_lesion.nii.gz'\n",
    "\n",
    "target = LoadImage(image_only=True)(post_lesion)\n",
    "target = EnsureChannelFirst()(target)[None]\n",
    "disp = LoadImage(image_only=True)(ddf)\n",
    "disp = EnsureChannelFirst()(disp)[None]\n",
    "lesion = LoadImage(image_only=True)(lesion_file)\n",
    "lesion = EnsureChannelFirst()(lesion)[None]\n",
    "lesion = mri + lesion\n",
    "nib.save(nib.Nifti1Image(lesion[0, 0].detach().cpu().numpy(), target.affine), lesion_mri)\n",
    "\n",
    "moved = apply_warp(disp_field=disp, moving_image=lesion, target_image=target)\n",
    "nib.save(nib.Nifti1Image(moved[0, 0].detach().cpu().numpy(), target.affine), output_file_pre2post_mri)\n",
    "\n",
    "\n",
    "plot_anat(lesion_mri, title='Pre lesion mask', cut_coords=cross_hair)\n",
    "plot_anat(output_file, title='Pre2post lesion mask', cut_coords=cross_hair)\n"
   ]
  },
  {
   "cell_type": "code",
   "execution_count": null,
   "metadata": {},
   "outputs": [],
   "source": []
  }
 ],
 "metadata": {
  "kernelspec": {
   "display_name": "base",
   "language": "python",
   "name": "python3"
  },
  "language_info": {
   "codemirror_mode": {
    "name": "ipython",
    "version": 3
   },
   "file_extension": ".py",
   "mimetype": "text/x-python",
   "name": "python",
   "nbconvert_exporter": "python",
   "pygments_lexer": "ipython3",
   "version": "3.11.7"
  }
 },
 "nbformat": 4,
 "nbformat_minor": 2
}
