{
 "cells": [
  {
   "cell_type": "code",
   "execution_count": 3,
   "metadata": {},
   "outputs": [],
   "source": [
    "\n",
    "from monai.transforms import LoadImage, EnsureChannelFirst\n",
    "import nibabel as nib\n",
    "from warp_utils import get_grid, apply_warp, jacobian_determinant_torch,jacobian_determinant, jac_det_div\n",
    "import torch\n",
    "\n",
    "ddf_file = '/deneb_disk/auto_resection/lesion_masks/pre2post_lesion_ddf.nii.gz'\n",
    "jac_det_file = '/deneb_disk/auto_resection/lesion_masks/pre2post_lesion_jac_det_test2.nii.gz'\n",
    "jac_div_file = '/deneb_disk/auto_resection/lesion_masks/pre2post_lesion_jac_div.nii.gz'\n",
    "\n",
    "mri_file = '/deneb_disk/auto_resection/lesion_masks/USCBrain.nii.gz'\n",
    "ddf=LoadImage(image_only=True)(ddf_file)\n",
    "mri=LoadImage(image_only=True)(mri_file)\n",
    "\n",
    "ddf = torch.permute(ddf, dims=(3, 0, 1, 2)) # 3 x H x W x D\n",
    "jdet, jdiv = jac_det_div(ddf)\n",
    "nib.save(nib.Nifti1Image(jdet.cpu().numpy(), mri.affine), jac_det_file)\n",
    "\n",
    "nib.save(nib.Nifti1Image(jdiv.cpu().numpy(), mri.affine), jac_div_file)\n",
    "\n",
    "\n"
   ]
  },
  {
   "cell_type": "code",
   "execution_count": 2,
   "metadata": {},
   "outputs": [
    {
     "name": "stderr",
     "output_type": "stream",
     "text": [
      "/opt/conda/lib/python3.11/site-packages/torchvision/io/image.py:13: UserWarning: Failed to load image Python extension: 'libc10_hip.so: cannot open shared object file: No such file or directory'If you don't plan on using image functionality from `torchvision.io`, you can ignore this warning. Otherwise, there might be something wrong with your environment. Did you have `libjpeg` or `libpng` installed before building `torchvision` from source?\n",
      "  warn(\n"
     ]
    }
   ],
   "source": [
    "\n",
    "from monai.transforms import LoadImage, EnsureChannelFirst\n",
    "import nibabel as nib\n",
    "from warp_utils import get_grid, apply_warp, jacobian_determinant_torch,jacobian_determinant, jac_det_div\n",
    "import torch\n",
    "\n",
    "ddf_file = '/deneb_disk/auto_resection/lesion_masks/pre2post_lesion_ddf_shrink.nii.gz'\n",
    "jac_det_file = '/deneb_disk/auto_resection/lesion_masks/pre2post_lesion_jac_det_test2_shrink.nii.gz'\n",
    "jac_div_file = '/deneb_disk/auto_resection/lesion_masks/pre2post_lesion_jac_div_shrink.nii.gz'\n",
    "\n",
    "mri_file = '/deneb_disk/auto_resection/lesion_masks/USCBrain.nii.gz'\n",
    "ddf=LoadImage(image_only=True)(ddf_file)\n",
    "mri=LoadImage(image_only=True)(mri_file)\n",
    "\n",
    "ddf = torch.permute(ddf, dims=(3, 0, 1, 2)) # 3 x H x W x D\n",
    "jdet, jdiv = jac_det_div(ddf)\n",
    "nib.save(nib.Nifti1Image(jdet.cpu().numpy(), mri.affine), jac_det_file)\n",
    "\n",
    "nib.save(nib.Nifti1Image(jdiv.cpu().numpy(), mri.affine), jac_div_file)\n",
    "\n",
    "\n"
   ]
  }
 ],
 "metadata": {
  "kernelspec": {
   "display_name": "base",
   "language": "python",
   "name": "python3"
  },
  "language_info": {
   "codemirror_mode": {
    "name": "ipython",
    "version": 3
   },
   "file_extension": ".py",
   "mimetype": "text/x-python",
   "name": "python",
   "nbconvert_exporter": "python",
   "pygments_lexer": "ipython3",
   "version": "3.11.5"
  }
 },
 "nbformat": 4,
 "nbformat_minor": 2
}
