{
 "cells": [
  {
   "cell_type": "code",
   "execution_count": null,
   "metadata": {},
   "outputs": [],
   "source": [
    "\n",
    "from make_wm_lesion import make_wm_lesion\n",
    "\n",
    "\"\"\"\n",
    "IXI440-HH-2127\n",
    "IXI441-HH-2154\n",
    "IXI442-IOP-1041\n",
    "IXI443-HH-2215\n",
    "IXI444-HH-2270\n",
    "IXI445-HH-2269\n",
    "IXI446-HH-2325\n",
    "IXI447-Guys-0979\n",
    "IXI448-HH-2393\n",
    "IXI449-Guys-1082\n",
    "IXI450-Guys-1093\n",
    "IXI451-HH-2212\n",
    "IXI452-HH-2213\n",
    "IXI453-HH-2214\n",
    "IXI454-Guys-1083\n",
    "IXI455-Guys-0981\n",
    "IXI456-Guys-1019\n",
    "IXI457-Guys-0984\n",
    "IXI458-Guys-0993\n",
    "IXI459-Guys-0992\n",
    "IXI460-Guys-0999\n",
    "IXI461-Guys-0998\n",
    "IXI462-IOP-1042\n",
    "IXI463-IOP-1043\n",
    "\"\"\"\n",
    "#core_modify_factor = 1 means replace the intensity in the lesion core by a constant value = core_modify_factor * (average of intensity in the initial lesion core)\n",
    "# > 1 will lead to hyper intensitues and < 1 will lead to hypointense lesion\n",
    "\n",
    "make_wm_lesion('IXI452-HH-2213',core_modify_factor=2.5,out_dir = '/scratch1/ajoshi/temp_dir')\n",
    "\n"
   ]
  },
  {
   "cell_type": "code",
   "execution_count": null,
   "metadata": {},
   "outputs": [],
   "source": []
  }
 ],
 "metadata": {
  "kernelspec": {
   "display_name": "Python 3.9.12",
   "language": "python",
   "name": "py39_12"
  },
  "language_info": {
   "codemirror_mode": {
    "name": "ipython",
    "version": 3
   },
   "file_extension": ".py",
   "mimetype": "text/x-python",
   "name": "python",
   "nbconvert_exporter": "python",
   "pygments_lexer": "ipython3",
   "version": "3.9.12"
  }
 },
 "nbformat": 4,
 "nbformat_minor": 4
}
