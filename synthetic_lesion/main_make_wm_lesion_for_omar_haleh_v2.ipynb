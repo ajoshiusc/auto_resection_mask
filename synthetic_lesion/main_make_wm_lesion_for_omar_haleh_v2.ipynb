{
 "cells": [
  {
   "cell_type": "code",
   "execution_count": null,
   "metadata": {},
   "outputs": [],
   "source": [
    "from functools import reduce\n",
    "from gen_rand_blob import gen_rand_blob_mesh, mesh_to_mask_3d, create_spherical_mask\n",
    "import plotly.graph_objects as go\n",
    "from matplotlib import pyplot as plt\n",
    "\n",
    "from dfsio import readdfs, writedfs\n",
    "from surfproc import reducepatch\n",
    "import nibabel as nb\n",
    "import numpy as np\n",
    "import os\n",
    "from nilearn import plotting\n",
    "from nilearn.image import coord_transform\n",
    "from scipy.ndimage import gaussian_filter\n",
    "import numpy as np\n",
    "from noise import snoise3,pnoise3\n",
    "from scipy.ndimage import binary_erosion\n",
    "import shutil\n",
    "\n",
    "from make_wm_lesion import make_wm_lesion\n",
    "\n",
    "\"\"\"\n",
    "IXI440-HH-2127\n",
    "IXI441-HH-2154\n",
    "IXI442-IOP-1041\n",
    "IXI443-HH-2215\n",
    "IXI444-HH-2270\n",
    "IXI445-HH-2269\n",
    "IXI446-HH-2325\n",
    "IXI447-Guys-0979\n",
    "IXI448-HH-2393\n",
    "IXI449-Guys-1082\n",
    "IXI450-Guys-1093\n",
    "IXI451-HH-2212\n",
    "IXI452-HH-2213\n",
    "IXI453-HH-2214\n",
    "IXI454-Guys-1083\n",
    "IXI455-Guys-0981\n",
    "IXI456-Guys-1019\n",
    "IXI457-Guys-0984\n",
    "IXI458-Guys-0993\n",
    "IXI459-Guys-0992\n",
    "IXI460-Guys-0999\n",
    "IXI461-Guys-0998\n",
    "IXI462-IOP-1042\n",
    "IXI463-IOP-1043\n",
    "\"\"\"\n",
    "make_wm_lesion('IXI452-HH-2213')\n",
    "\n"
   ]
  },
  {
   "cell_type": "code",
   "execution_count": null,
   "metadata": {},
   "outputs": [],
   "source": []
  }
 ],
 "metadata": {
  "kernelspec": {
   "display_name": "Python 3.9.12",
   "language": "python",
   "name": "py39_12"
  },
  "language_info": {
   "codemirror_mode": {
    "name": "ipython",
    "version": 3
   },
   "file_extension": ".py",
   "mimetype": "text/x-python",
   "name": "python",
   "nbconvert_exporter": "python",
   "pygments_lexer": "ipython3",
   "version": "3.9.12"
  }
 },
 "nbformat": 4,
 "nbformat_minor": 4
}
