{
 "cells": [
  {
   "cell_type": "code",
   "execution_count": null,
   "metadata": {},
   "outputs": [],
   "source": [
    "from nilearn.plotting import plot_anat\n",
    "\n",
    "\n",
    "pre_lesion = '/home/ajoshi/Desktop/lesion_small.mask.nii.gz'\n",
    "post_lesion = '/home/ajoshi/Desktop/lesion_large.mask.nii.gz'\n",
    "\n",
    "mri = '/home/ajoshi/Desktop/t1/IXI031-Guys-0797_t1.nii.gz'\n",
    "\n",
    "\n",
    "cross_hair = (22, 23, 4)\n",
    "plot_anat(pre_lesion, title='Pre-lesion mask', cut_coords=cross_hair)\n",
    "plot_anat(post_lesion, title='Post-lesion mask', cut_coords=cross_hair)\n"
   ]
  },
  {
   "cell_type": "code",
   "execution_count": null,
   "metadata": {},
   "outputs": [],
   "source": [
    "\n",
    "from warper import Warper\n",
    "\n",
    "nonlin_reg = Warper()\n",
    "pre2post_lesion = '/home/ajoshi/Desktop/pre2post_lesion.nii.gz'\n",
    "ddf = '/home/ajoshi/Desktop/pre2post_lesion_ddf.nii.gz'\n",
    "jac_file = '/home/ajoshi/Desktop/pre2post_lesion_jac.nii.gz'\n",
    "nonlin_reg.nonlinear_reg(\n",
    "    target_file=post_lesion,\n",
    "    moving_file=pre_lesion,\n",
    "    output_file=pre2post_lesion,\n",
    "    ddf_file=ddf,\n",
    "    reg_penalty=3,\n",
    "    nn_input_size=64,\n",
    "    lr=1e-3,\n",
    "    max_epochs=3000,\n",
    "    loss=\"mse\",\n",
    "    jacobian_determinant_file=jac_file)\n"
   ]
  },
  {
   "cell_type": "code",
   "execution_count": null,
   "metadata": {},
   "outputs": [],
   "source": [
    "from warp_utils import apply_warp\n",
    "from monai.transforms import LoadImage, EnsureChannelFirst\n",
    "import nibabel as nib\n",
    "\n",
    "plot_anat(mri, title='MRI', cut_coords=cross_hair)\n",
    "\n",
    "plot_anat(pre2post_lesion, title='Pre2post lesion mask', cut_coords=cross_hair)\n",
    "\n",
    "moving = LoadImage(image_only=True)(pre_lesion)\n",
    "moving = EnsureChannelFirst()(moving)[None]\n",
    "target = LoadImage(image_only=True)(post_lesion)\n",
    "target = EnsureChannelFirst()(target)[None]\n",
    "disp = LoadImage(image_only=True)(ddf)\n",
    "disp = EnsureChannelFirst()(disp)[None]\n",
    "mri = LoadImage(image_only=True)(mri)\n",
    "mri = EnsureChannelFirst()(mri)[None]\n",
    "\n",
    "output_file = '/home/ajoshi/Desktop/pre2post_lesion_check.nii.gz'\n",
    "moved = apply_warp(disp_field=disp, moving_image=moving, target_image=target)\n",
    "nib.save(nib.Nifti1Image(moved[0, 0].detach(\n",
    ").cpu().numpy(), target.affine), output_file)\n",
    "\n",
    "\n",
    "target = LoadImage(image_only=True)(post_lesion)\n",
    "target = EnsureChannelFirst()(target)[None]\n",
    "disp = LoadImage(image_only=True)(ddf)\n",
    "disp = EnsureChannelFirst()(disp)[None]\n",
    "#mri = LoadImage(image_only=True)(mri)\n",
    "#mri = EnsureChannelFirst()(mri)[None]\n",
    "output_file = '/home/ajoshi/Desktop/pre2post_mri.nii.gz'\n",
    "moved = apply_warp(disp_field=disp, moving_image=mri, target_image=target)\n",
    "nib.save(nib.Nifti1Image(moved[0, 0].detach(\n",
    ").cpu().numpy(), target.affine), output_file)\n"
   ]
  },
  {
   "cell_type": "code",
   "execution_count": null,
   "metadata": {},
   "outputs": [],
   "source": [
    "# Save the final pre and post expansion MRI with lesions\n",
    "# also save the original MRI\n",
    "\n",
    "lesion_mri = '/home/ajoshi/Desktop/mri_initial_lesion.nii.gz'\n",
    "mri_warped_with_lesion = '/home/ajoshi/Desktop/mri_expanded_lesion.nii.gz'\n",
    "mri_file = '/home/ajoshi/Desktop/mri_no_lesion.nii.gz'\n",
    "target = LoadImage(image_only=True)(post_lesion)\n",
    "target = EnsureChannelFirst()(target)[None]\n",
    "disp = LoadImage(image_only=True)(ddf)\n",
    "disp = EnsureChannelFirst()(disp)[None]\n",
    "lesion = LoadImage(image_only=True)(pre_lesion)\n",
    "lesion = EnsureChannelFirst()(lesion)[None]\n",
    "\n",
    "lesion = mri + (255-lesion)*(mri > 0)\n",
    "nib.save(nib.Nifti1Image(lesion[0, 0].detach(\n",
    ").cpu().numpy(), target.affine), lesion_mri)\n",
    "\n",
    "moved = apply_warp(disp_field=disp, moving_image=lesion, target_image=target)\n",
    "nib.save(nib.Nifti1Image(moved[0, 0].detach().cpu(\n",
    ").numpy(), target.affine), mri_warped_with_lesion)\n",
    "\n",
    "nib.save(nib.Nifti1Image(\n",
    "    mri[0, 0].detach().cpu().numpy(), target.affine), lesion_mri)\n",
    "\n",
    "plot_anat(lesion_mri, title='Small lesion mri', cut_coords=cross_hair)\n",
    "plot_anat(mri_warped_with_lesion,\n",
    "          title='Expanded lesion mri', cut_coords=cross_hair)\n",
    "plot_anat(mri,\n",
    "          title='original lesion mask', cut_coords=cross_hair)\n"
   ]
  },
  {
   "cell_type": "code",
   "execution_count": null,
   "metadata": {},
   "outputs": [],
   "source": []
  }
 ],
 "metadata": {
  "kernelspec": {
   "display_name": "base",
   "language": "python",
   "name": "python3"
  },
  "language_info": {
   "codemirror_mode": {
    "name": "ipython",
    "version": 3
   },
   "file_extension": ".py",
   "mimetype": "text/x-python",
   "name": "python",
   "nbconvert_exporter": "python",
   "pygments_lexer": "ipython3",
   "version": "3.11.5"
  }
 },
 "nbformat": 4,
 "nbformat_minor": 2
}
