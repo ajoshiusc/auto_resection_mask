{
 "cells": [
  {
   "cell_type": "code",
   "execution_count": null,
   "metadata": {},
   "outputs": [],
   "source": [
    "from nilearn.plotting import plot_anat\n",
    "\n",
    "\n",
    "\n",
    "\n",
    "nonlin_reg = Warper()\n",
    "\n",
    "\n",
    "nonlin_reg.nonlinear_reg(\n",
    "    target_file=ref_img_pvc_frac,\n",
    "    moving_file=affine_reg_img_pvc_frac,\n",
    "    output_file=nonlin_reg_img_pvc_frac,\n",
    "    ddf_file=ddf,\n",
    "    reg_penalty=3,\n",
    "    nn_input_size=64,\n",
    "    lr=1e-3,\n",
    "    max_epochs=1000,\n",
    "    loss=\"mse\",\n",
    "    jacobian_determinant_file=jac_file,\n",
    "    target_mask=target_msk_file,\n",
    ")\n"
   ]
  }
 ],
 "metadata": {
  "language_info": {
   "name": "python"
  }
 },
 "nbformat": 4,
 "nbformat_minor": 2
}
