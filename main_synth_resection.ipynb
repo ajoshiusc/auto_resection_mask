{
 "cells": [
  {
   "cell_type": "code",
   "execution_count": 4,
   "metadata": {},
   "outputs": [
    {
     "ename": "IndexError",
     "evalue": "arrays used as indices must be of integer (or boolean) type",
     "output_type": "error",
     "traceback": [
      "\u001b[0;31m---------------------------------------------------------------------------\u001b[0m",
      "\u001b[0;31mIndexError\u001b[0m                                Traceback (most recent call last)",
      "\u001b[1;32m/home/ajoshi/Projects/auto_resection_mask/main_synth_resection.ipynb Cell 1\u001b[0m line \u001b[0;36m2\n\u001b[1;32m     <a href='vscode-notebook-cell:/home/ajoshi/Projects/auto_resection_mask/main_synth_resection.ipynb#W0sZmlsZQ%3D%3D?line=19'>20</a>\u001b[0m mask \u001b[39m=\u001b[39m np\u001b[39m.\u001b[39mzeros_like(image, dtype\u001b[39m=\u001b[39mnp\u001b[39m.\u001b[39muint8)\n\u001b[1;32m     <a href='vscode-notebook-cell:/home/ajoshi/Projects/auto_resection_mask/main_synth_resection.ipynb#W0sZmlsZQ%3D%3D?line=20'>21</a>\u001b[0m rr, cc, zz \u001b[39m=\u001b[39m np\u001b[39m.\u001b[39mmeshgrid(\n\u001b[1;32m     <a href='vscode-notebook-cell:/home/ajoshi/Projects/auto_resection_mask/main_synth_resection.ipynb#W0sZmlsZQ%3D%3D?line=21'>22</a>\u001b[0m     \u001b[39m*\u001b[39m(\u001b[39mslice\u001b[39m(c \u001b[39m-\u001b[39m radius, c \u001b[39m+\u001b[39m radius \u001b[39m+\u001b[39m \u001b[39m1\u001b[39m) \u001b[39mfor\u001b[39;00m c \u001b[39min\u001b[39;00m center), indexing\u001b[39m=\u001b[39m\u001b[39m\"\u001b[39m\u001b[39mij\u001b[39m\u001b[39m\"\u001b[39m\n\u001b[1;32m     <a href='vscode-notebook-cell:/home/ajoshi/Projects/auto_resection_mask/main_synth_resection.ipynb#W0sZmlsZQ%3D%3D?line=22'>23</a>\u001b[0m )\n\u001b[0;32m---> <a href='vscode-notebook-cell:/home/ajoshi/Projects/auto_resection_mask/main_synth_resection.ipynb#W0sZmlsZQ%3D%3D?line=23'>24</a>\u001b[0m mask[rr, cc, zz] \u001b[39m=\u001b[39m \u001b[39m1\u001b[39m\n\u001b[1;32m     <a href='vscode-notebook-cell:/home/ajoshi/Projects/auto_resection_mask/main_synth_resection.ipynb#W0sZmlsZQ%3D%3D?line=25'>26</a>\u001b[0m \u001b[39m# Apply Gaussian smoothing to the mask for a smooth transition\u001b[39;00m\n\u001b[1;32m     <a href='vscode-notebook-cell:/home/ajoshi/Projects/auto_resection_mask/main_synth_resection.ipynb#W0sZmlsZQ%3D%3D?line=26'>27</a>\u001b[0m gaussian_filter \u001b[39m=\u001b[39m GaussianFilter()\n",
      "\u001b[0;31mIndexError\u001b[0m: arrays used as indices must be of integer (or boolean) type"
     ]
    }
   ],
   "source": [
    "import numpy as np\n",
    "from monai.transforms import LoadImage, SaveImage\n",
    "from monai.networks.layers.simplelayers import GaussianFilter\n",
    "from monai.transforms import Compose\n",
    "from nilearn.plotting import plot_anat\n",
    "\n",
    "# Define the input and output file paths\n",
    "input_image_path = \"/home/ajoshi/Software/BrainSuite23a/svreg/BCI-DNI_brain_atlas/BCI-DNI_brain.bfc.nii.gz\"\n",
    "output_image_path = \"output_mri.nii.gz\"\n",
    "\n",
    "# Load the MRI image\n",
    "loader = LoadImage(image_only=True)\n",
    "image = loader(input_image_path)\n",
    "\n",
    "# Define the center and radius of the spherical hole\n",
    "center = (64, 64, 64)  # Adjust the coordinates as needed\n",
    "radius = 10  # Adjust the radius as needed\n",
    "\n",
    "# Create a binary mask for the spherical hole\n",
    "mask = np.zeros_like(image, dtype=np.uint8)\n",
    "rr, cc, zz = np.meshgrid(\n",
    "    *(slice(c - radius, c + radius + 1) for c in center), indexing=\"ij\"\n",
    ")\n",
    "mask[rr, cc, zz] = 1\n",
    "\n",
    "# Apply Gaussian smoothing to the mask for a smooth transition\n",
    "gaussian_filter = GaussianFilter()\n",
    "smoothed_mask = gaussian_filter(mask)\n",
    "\n",
    "# Apply the mask to the image\n",
    "image_with_hole = image * (1 - smoothed_mask)\n",
    "\n",
    "# Save the modified image with the spherical hole\n",
    "saver = SaveImage()\n",
    "saver(image_with_hole, output_image_path)\n",
    "\n",
    "# Plot the original and final images using Nilearn's plot_anat\n",
    "plot_anat(image[0, :, :, 64], title=\"Original MRI\", display_mode=\"ortho\", cut_coords=center)\n",
    "plot_anat(image_with_hole[0, :, :, 64], title=\"MRI with Spherical Hole\", display_mode=\"ortho\", cut_coords=center)\n"
   ]
  },
  {
   "cell_type": "code",
   "execution_count": 2,
   "metadata": {},
   "outputs": [
    {
     "ename": "SyntaxError",
     "evalue": "closing parenthesis ')' does not match opening parenthesis '[' (3630971971.py, line 21)",
     "output_type": "error",
     "traceback": [
      "\u001b[0;36m  Cell \u001b[0;32mIn[2], line 21\u001b[0;36m\u001b[0m\n\u001b[0;31m    random_blob_mask = random_blob_mask[:image.shape[0], :image.shape[1], :image.shape[2])  # Truncate to the original size\u001b[0m\n\u001b[0m                                                                                         ^\u001b[0m\n\u001b[0;31mSyntaxError\u001b[0m\u001b[0;31m:\u001b[0m closing parenthesis ')' does not match opening parenthesis '['\n"
     ]
    }
   ],
   "source": [
    "import numpy as np\n",
    "from monai.transforms import LoadImage, SaveImage\n",
    "from monai.networks.layers.simplelayers import GaussianFilter\n",
    "from monai.transforms import Compose\n",
    "from nilearn.plotting import plot_anat\n",
    "\n",
    "# Define the input and output file paths\n",
    "input_image_path = \"/home/ajoshi/Software/BrainSuite23a/svreg/BCI-DNI_brain_atlas/BCI-DNI_brain.bfc.nii.gz\"\n",
    "output_image_path = \"output_mri.nii.gz\"\n",
    "\n",
    "# Load the MRI image\n",
    "loader = LoadImage(image_only=True)\n",
    "image = loader(input_image_path)\n",
    "\n",
    "# Define the size and shape of the random blob hole\n",
    "hole_size = (30, 30, 30)  # Adjust the size as needed\n",
    "\n",
    "# Create a random binary mask for the blob hole\n",
    "random_blob_mask = np.random.randint(0, 2, size=image.shape, dtype=np.uint8)\n",
    "random_blob_mask = np.pad(random_blob_mask, ((0, 0), (17, 18), (17, 18)), mode='constant')  # Padding to fit the image size\n",
    "random_blob_mask = random_blob_mask[:image.shape[0], :image.shape[1], :image.shape[2])  # Truncate to the original size\n",
    "\n",
    "# Apply Gaussian smoothing to the mask for a smooth transition\n",
    "gaussian_filter = GaussianFilter()\n",
    "smoothed_mask = gaussian_filter(random_blob_mask)\n",
    "\n",
    "# Apply the mask to the image\n",
    "image_with_blob_hole = image * (1 - smoothed_mask)\n",
    "\n",
    "# Save the modified image with the blob hole\n",
    "saver = SaveImage()\n",
    "saver(image_with_blob_hole, output_image_path)\n",
    "\n",
    "# Plot the original and final images using Nilearn's plot_anat\n",
    "cut_coords = (image.shape[0] // 2, image.shape[1] // 2, image.shape[2] // 2)  # Adjust the cut coordinates as needed\n",
    "plot_anat(image[0, :, :, cut_coords[2]], title=\"Original MRI\", display_mode=\"ortho\", cut_coords=cut_coords)\n",
    "plot_anat(image_with_blob_hole[0, :, :, cut_coords[2]], title=\"MRI with Blob Hole\", display_mode=\"ortho\", cut_coords=cut_coords)\n"
   ]
  }
 ],
 "metadata": {
  "kernelspec": {
   "display_name": "base",
   "language": "python",
   "name": "python3"
  },
  "language_info": {
   "codemirror_mode": {
    "name": "ipython",
    "version": 3
   },
   "file_extension": ".py",
   "mimetype": "text/x-python",
   "name": "python",
   "nbconvert_exporter": "python",
   "pygments_lexer": "ipython3",
   "version": "3.11.5"
  }
 },
 "nbformat": 4,
 "nbformat_minor": 2
}
