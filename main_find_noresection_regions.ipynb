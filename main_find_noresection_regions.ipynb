{
 "cells": [
  {
   "cell_type": "code",
   "execution_count": 1,
   "metadata": {},
   "outputs": [
    {
     "name": "stderr",
     "output_type": "stream",
     "text": [
      "/opt/conda/lib/python3.11/site-packages/torchvision/io/image.py:13: UserWarning: Failed to load image Python extension: 'libc10_hip.so: cannot open shared object file: No such file or directory'If you don't plan on using image functionality from `torchvision.io`, you can ignore this warning. Otherwise, there might be something wrong with your environment. Did you have `libjpeg` or `libpng` installed before building `torchvision` from source?\n",
      "  warn(\n"
     ]
    }
   ],
   "source": [
    "from aligner import Aligner\n",
    "from monai.transforms import (\n",
    "    LoadImage,\n",
    "    Resize,\n",
    "    EnsureChannelFirst,\n",
    "    ScaleIntensityRangePercentiles,\n",
    ")\n",
    "import nibabel as nib\n",
    "from nilearn.plotting import plot_anat\n",
    "import matplotlib.pyplot as plt\n",
    "import matplotlib\n",
    "from warp_utils import apply_warp\n",
    "\n",
    "\n",
    "\n",
    "pre_mri = '/deneb_disk/auto_resection/data_8_4_2023/sub-M1998N33/sMRI/sub-M1998N33-M1998N33_MRI.nii.gz' \n",
    "post_mri = '/deneb_disk/auto_resection/data_8_4_2023/sub-M1998N33/sMRI/sub-M1998N33-M1998N33_postRS_MRI.nii.gz'\n",
    "\n",
    "bst_atlas = '/deneb_disk/auto_resection/bst_atlases/T1_brain_t1.nii.gz'\n",
    "bst_atlas_labels = '/deneb_disk/auto_resection/bst_atlases/T1_brain_t1.label.nii.gz'\n",
    "\n",
    "plot_anat(pre_mri,title='pre-mri')\n",
    "plot_anat(post_mri,title='post-mri')\n",
    "plot_anat(bst_atlas,title='bst-atlas')\n",
    "plot_anat(bst_atlas_labels,title='bst-atlas-labels')\n"
   ]
  },
  {
   "cell_type": "code",
   "execution_count": null,
   "metadata": {},
   "outputs": [],
   "source": [
    "affine_reg = Aligner()\n",
    "\n",
    "ddf = \"ddf_temp.nii.gz\"\n",
    "out_img = \"out_img.nii.gz\"\n",
    "out_labels = \"out_labels.nii.gz\"\n",
    "\n",
    "affine_reg.affine_reg(\n",
    "    fixed_file=pre_mri,\n",
    "    moving_file=bst_atlas,\n",
    "    output_file=out_img,\n",
    "    ddf_file=ddf,\n",
    "    loss=\"cc\",\n",
    "    nn_input_size=64,\n",
    "    lr=1e-6,\n",
    "    max_epochs=1500,\n",
    "    device=\"cuda\",\n",
    ")\n",
    "\n",
    "\n",
    "moving, moving_meta = LoadImage()(bst_atlas_labels)\n",
    "moving = EnsureChannelFirst()(moving)\n",
    "\n",
    "target, _ = LoadImage()(pre_mri)\n",
    "target = EnsureChannelFirst()(target)\n",
    "\n",
    "\n",
    "image_movedo = apply_warp(affine_reg.ddf[None,], moving[None,], target[None,])\n",
    "\n",
    "nib.save(\n",
    "    nib.Nifti1Image(image_movedo[0, 0].detach(\n",
    "    ).cpu().numpy(), affine_reg.target.affine),\n",
    "    out_labels,\n",
    ")"
   ]
  }
 ],
 "metadata": {
  "kernelspec": {
   "display_name": "base",
   "language": "python",
   "name": "python3"
  },
  "language_info": {
   "codemirror_mode": {
    "name": "ipython",
    "version": 3
   },
   "file_extension": ".py",
   "mimetype": "text/x-python",
   "name": "python",
   "nbconvert_exporter": "python",
   "pygments_lexer": "ipython3",
   "version": "3.11.5"
  }
 },
 "nbformat": 4,
 "nbformat_minor": 2
}
