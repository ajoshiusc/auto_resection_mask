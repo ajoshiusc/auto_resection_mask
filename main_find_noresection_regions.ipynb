{
 "cells": [
  {
   "cell_type": "code",
   "execution_count": null,
   "metadata": {},
   "outputs": [],
   "source": [
    "from aligner import Aligner, center_and_resample_images\n",
    "from monai.transforms import LoadImage, EnsureChannelFirst\n",
    "import nibabel as nib\n",
    "from nilearn.plotting import plot_anat, plot_roi\n",
    "import matplotlib.pyplot as plt\n",
    "import matplotlib\n",
    "from warp_utils import apply_warp\n",
    "\n",
    "\n",
    "pre_mri = '/deneb_disk/auto_resection/data_8_4_2023/sub-M1998N33/sMRI/sub-M1998N33-M1998N33_MRI.bse.nii.gz'\n",
    "\n",
    "bst_atlas = '/deneb_disk/auto_resection/bst_atlases/icbm_bst.nii.gz'\n",
    "bst_atlas_labels = '/deneb_disk/auto_resection/bst_atlases/icbm_bst.label.nii.gz'\n",
    "\n",
    "cent_bst_atlas = 'cent_T1_brain_t1.nii.gz'\n",
    "cent_bst_atlas_labels = 'cent_T1_brain_t1.label.nii.gz'\n",
    "\n",
    "plot_anat(pre_mri, title='pre-mri')\n",
    "plot_roi(bst_atlas_labels, bg_img=bst_atlas, title='bst-atlas-labels on bst_atlas')\n",
    "plot_roi(bst_atlas_labels, bg_img=pre_mri, title='bst-atlas-labels on pre-mri')"
   ]
  },
  {
   "cell_type": "code",
   "execution_count": null,
   "metadata": {},
   "outputs": [],
   "source": [
    "center_and_resample_images(pre_mri, bst_atlas, centered_atlas=cent_bst_atlas,\n",
    "                           atlas_labels=bst_atlas_labels, centered_atlas_labels=cent_bst_atlas_labels)\n",
    "\n",
    "plot_roi(cent_bst_atlas_labels, bg_img=pre_mri, alpha=0.25, title='centered bst-atlas')"
   ]
  },
  {
   "cell_type": "code",
   "execution_count": null,
   "metadata": {},
   "outputs": [],
   "source": [
    "\n",
    "affine_reg = Aligner()\n",
    "\n",
    "ddf = \"ddf_temp.nii.gz\"\n",
    "out_img = \"out_img.nii.gz\"\n",
    "out_labels = \"out_labels.nii.gz\"\n",
    "\n",
    "affine_reg.affine_reg(\n",
    "    fixed_file=pre_mri,\n",
    "    moving_file=cent_bst_atlas,\n",
    "    output_file=out_img,\n",
    "    ddf_file=ddf,\n",
    "    loss=\"mi\",\n",
    "    nn_input_size=64,\n",
    "    lr=1e-6,\n",
    "    max_epochs=3000,\n",
    "    device=\"cuda\",\n",
    ")\n",
    "\n"
   ]
  },
  {
   "cell_type": "code",
   "execution_count": null,
   "metadata": {},
   "outputs": [],
   "source": [
    "\n",
    "moving = LoadImage(image_only=True)(cent_bst_atlas_labels)\n",
    "moving = EnsureChannelFirst()(moving)\n",
    "\n",
    "target = LoadImage(image_only=True)(pre_mri)\n",
    "target = EnsureChannelFirst()(target)\n",
    "\n",
    "\n",
    "image_movedo = apply_warp(affine_reg.ddf[None,], moving[None,], target[None,],interp_mode='nearest')\n",
    "\n",
    "nib.save(\n",
    "    nib.Nifti1Image(image_movedo[0, 0].detach(\n",
    "    ).cpu().numpy(), affine_reg.target.affine),\n",
    "    out_labels,\n",
    ")\n",
    "\n",
    "plot_roi(out_labels, bg_img=pre_mri, title='out-labels over pre-mri')\n"
   ]
  }
 ],
 "metadata": {
  "kernelspec": {
   "display_name": "base",
   "language": "python",
   "name": "python3"
  },
  "language_info": {
   "codemirror_mode": {
    "name": "ipython",
    "version": 3
   },
   "file_extension": ".py",
   "mimetype": "text/x-python",
   "name": "python",
   "nbconvert_exporter": "python",
   "pygments_lexer": "ipython3",
   "version": "3.11.5"
  }
 },
 "nbformat": 4,
 "nbformat_minor": 2
}
